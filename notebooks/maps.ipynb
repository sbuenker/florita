{
 "cells": [
  {
   "cell_type": "code",
   "execution_count": 1,
   "metadata": {},
   "outputs": [],
   "source": [
    "# import packages\n",
    "import pandas as pd\n",
    "import numpy as np"
   ]
  },
  {
   "cell_type": "code",
   "execution_count": 2,
   "metadata": {},
   "outputs": [],
   "source": [
    "avg_tot_vol_ins_pur = pd.read_csv('../data/input/avg_tot_vol_ins_pur.csv',\n",
    "                                  dtype={'countyCode': str}\n",
    "                                 )"
   ]
  },
  {
   "cell_type": "code",
   "execution_count": 3,
   "metadata": {},
   "outputs": [],
   "source": [
    "county_chars_all = pd.read_parquet('../data/output/county_chars_all.gzip')"
   ]
  },
  {
   "cell_type": "code",
   "execution_count": 4,
   "metadata": {},
   "outputs": [
    {
     "name": "stdout",
     "output_type": "stream",
     "text": [
      "<class 'pandas.core.frame.DataFrame'>\n",
      "RangeIndex: 3118 entries, 0 to 3117\n",
      "Data columns (total 9 columns):\n",
      " #   Column                Non-Null Count  Dtype  \n",
      "---  ------                --------------  -----  \n",
      " 0   countyCode            3118 non-null   object \n",
      " 1   countyName            3118 non-null   object \n",
      " 2   stateName             3118 non-null   object \n",
      " 3   pop_2021              3118 non-null   float64\n",
      " 4   no_hh_2021            3118 non-null   float64\n",
      " 5   med_house_price_2021  3118 non-null   float64\n",
      " 6   med_HH_inc_2020       3118 non-null   float64\n",
      " 7   long                  3118 non-null   float64\n",
      " 8   lat                   3118 non-null   float64\n",
      "dtypes: float64(6), object(3)\n",
      "memory usage: 219.4+ KB\n"
     ]
    }
   ],
   "source": [
    "county_chars_all.info()"
   ]
  },
  {
   "cell_type": "code",
   "execution_count": 5,
   "metadata": {},
   "outputs": [],
   "source": [
    "# sub-setting data for map analysis\n",
    "adopt_rate = avg_tot_vol_ins_pur[['countyCode',\n",
    "                                  'propertyState', \n",
    "                                  'year', \n",
    "                                  'buildingType', \n",
    "                                  'tot_pol_cnt'\n",
    "                                 ]\n",
    "                                ]"
   ]
  },
  {
   "cell_type": "code",
   "execution_count": 6,
   "metadata": {},
   "outputs": [],
   "source": [
    "adopt_rate = adopt_rate[(adopt_rate.year==2021) & (adopt_rate.buildingType.str.contains('Residential'))].reset_index(drop=True)"
   ]
  },
  {
   "cell_type": "code",
   "execution_count": 7,
   "metadata": {},
   "outputs": [],
   "source": [
    "gb_adopt = adopt_rate.groupby('countyCode')['tot_pol_cnt'].sum().reset_index()"
   ]
  },
  {
   "cell_type": "code",
   "execution_count": 8,
   "metadata": {},
   "outputs": [],
   "source": [
    "gb_adopt2 = pd.merge(left=gb_adopt,\n",
    "                     right=county_chars_all[['countyCode','countyName','stateName','no_hh_2021']],\n",
    "                     on='countyCode',\n",
    "                     how='inner'\n",
    "                    )"
   ]
  },
  {
   "cell_type": "code",
   "execution_count": 9,
   "metadata": {},
   "outputs": [],
   "source": [
    "gb_adopt2 = gb_adopt2[['countyCode', 'countyName','stateName','tot_pol_cnt','no_hh_2021']]"
   ]
  },
  {
   "cell_type": "code",
   "execution_count": 10,
   "metadata": {},
   "outputs": [],
   "source": [
    "gb_adopt2['adopt_rate'] = round((gb_adopt2['tot_pol_cnt']/gb_adopt2['no_hh_2021'])*100,1)"
   ]
  },
  {
   "cell_type": "code",
   "execution_count": 11,
   "metadata": {},
   "outputs": [
    {
     "data": {
      "text/html": [
       "<div>\n",
       "<style scoped>\n",
       "    .dataframe tbody tr th:only-of-type {\n",
       "        vertical-align: middle;\n",
       "    }\n",
       "\n",
       "    .dataframe tbody tr th {\n",
       "        vertical-align: top;\n",
       "    }\n",
       "\n",
       "    .dataframe thead th {\n",
       "        text-align: right;\n",
       "    }\n",
       "</style>\n",
       "<table border=\"1\" class=\"dataframe\">\n",
       "  <thead>\n",
       "    <tr style=\"text-align: right;\">\n",
       "      <th></th>\n",
       "      <th>countyCode</th>\n",
       "      <th>countyName</th>\n",
       "      <th>stateName</th>\n",
       "      <th>tot_pol_cnt</th>\n",
       "      <th>no_hh_2021</th>\n",
       "      <th>adopt_rate</th>\n",
       "    </tr>\n",
       "  </thead>\n",
       "  <tbody>\n",
       "    <tr>\n",
       "      <th>0</th>\n",
       "      <td>01001</td>\n",
       "      <td>Autauga County</td>\n",
       "      <td>AL</td>\n",
       "      <td>187</td>\n",
       "      <td>18880.191693</td>\n",
       "      <td>1.0</td>\n",
       "    </tr>\n",
       "    <tr>\n",
       "      <th>1</th>\n",
       "      <td>01003</td>\n",
       "      <td>Baldwin County</td>\n",
       "      <td>AL</td>\n",
       "      <td>20138</td>\n",
       "      <td>76451.757188</td>\n",
       "      <td>26.3</td>\n",
       "    </tr>\n",
       "    <tr>\n",
       "      <th>2</th>\n",
       "      <td>01005</td>\n",
       "      <td>Barbour County</td>\n",
       "      <td>AL</td>\n",
       "      <td>31</td>\n",
       "      <td>7975.718850</td>\n",
       "      <td>0.4</td>\n",
       "    </tr>\n",
       "    <tr>\n",
       "      <th>3</th>\n",
       "      <td>01007</td>\n",
       "      <td>Bibb County</td>\n",
       "      <td>AL</td>\n",
       "      <td>12</td>\n",
       "      <td>7181.150160</td>\n",
       "      <td>0.2</td>\n",
       "    </tr>\n",
       "    <tr>\n",
       "      <th>4</th>\n",
       "      <td>01009</td>\n",
       "      <td>Blount County</td>\n",
       "      <td>AL</td>\n",
       "      <td>28</td>\n",
       "      <td>18862.939297</td>\n",
       "      <td>0.1</td>\n",
       "    </tr>\n",
       "    <tr>\n",
       "      <th>...</th>\n",
       "      <td>...</td>\n",
       "      <td>...</td>\n",
       "      <td>...</td>\n",
       "      <td>...</td>\n",
       "      <td>...</td>\n",
       "      <td>...</td>\n",
       "    </tr>\n",
       "    <tr>\n",
       "      <th>2886</th>\n",
       "      <td>56037</td>\n",
       "      <td>Sweetwater County</td>\n",
       "      <td>WY</td>\n",
       "      <td>10</td>\n",
       "      <td>13295.207668</td>\n",
       "      <td>0.1</td>\n",
       "    </tr>\n",
       "    <tr>\n",
       "      <th>2887</th>\n",
       "      <td>56039</td>\n",
       "      <td>Teton County</td>\n",
       "      <td>WY</td>\n",
       "      <td>405</td>\n",
       "      <td>7531.948882</td>\n",
       "      <td>5.4</td>\n",
       "    </tr>\n",
       "    <tr>\n",
       "      <th>2888</th>\n",
       "      <td>56041</td>\n",
       "      <td>Uinta County</td>\n",
       "      <td>WY</td>\n",
       "      <td>32</td>\n",
       "      <td>6592.651757</td>\n",
       "      <td>0.5</td>\n",
       "    </tr>\n",
       "    <tr>\n",
       "      <th>2889</th>\n",
       "      <td>56043</td>\n",
       "      <td>Washakie County</td>\n",
       "      <td>WY</td>\n",
       "      <td>5</td>\n",
       "      <td>2461.661342</td>\n",
       "      <td>0.2</td>\n",
       "    </tr>\n",
       "    <tr>\n",
       "      <th>2890</th>\n",
       "      <td>56045</td>\n",
       "      <td>Weston County</td>\n",
       "      <td>WY</td>\n",
       "      <td>1</td>\n",
       "      <td>2154.952077</td>\n",
       "      <td>0.0</td>\n",
       "    </tr>\n",
       "  </tbody>\n",
       "</table>\n",
       "<p>2891 rows × 6 columns</p>\n",
       "</div>"
      ],
      "text/plain": [
       "     countyCode         countyName stateName  tot_pol_cnt    no_hh_2021  \\\n",
       "0         01001     Autauga County        AL          187  18880.191693   \n",
       "1         01003     Baldwin County        AL        20138  76451.757188   \n",
       "2         01005     Barbour County        AL           31   7975.718850   \n",
       "3         01007        Bibb County        AL           12   7181.150160   \n",
       "4         01009      Blount County        AL           28  18862.939297   \n",
       "...         ...                ...       ...          ...           ...   \n",
       "2886      56037  Sweetwater County        WY           10  13295.207668   \n",
       "2887      56039       Teton County        WY          405   7531.948882   \n",
       "2888      56041       Uinta County        WY           32   6592.651757   \n",
       "2889      56043    Washakie County        WY            5   2461.661342   \n",
       "2890      56045      Weston County        WY            1   2154.952077   \n",
       "\n",
       "      adopt_rate  \n",
       "0            1.0  \n",
       "1           26.3  \n",
       "2            0.4  \n",
       "3            0.2  \n",
       "4            0.1  \n",
       "...          ...  \n",
       "2886         0.1  \n",
       "2887         5.4  \n",
       "2888         0.5  \n",
       "2889         0.2  \n",
       "2890         0.0  \n",
       "\n",
       "[2891 rows x 6 columns]"
      ]
     },
     "execution_count": 11,
     "metadata": {},
     "output_type": "execute_result"
    }
   ],
   "source": [
    "gb_adopt2"
   ]
  },
  {
   "cell_type": "code",
   "execution_count": 13,
   "metadata": {},
   "outputs": [
    {
     "data": {
      "text/html": [
       "<div>\n",
       "<style scoped>\n",
       "    .dataframe tbody tr th:only-of-type {\n",
       "        vertical-align: middle;\n",
       "    }\n",
       "\n",
       "    .dataframe tbody tr th {\n",
       "        vertical-align: top;\n",
       "    }\n",
       "\n",
       "    .dataframe thead th {\n",
       "        text-align: right;\n",
       "    }\n",
       "</style>\n",
       "<table border=\"1\" class=\"dataframe\">\n",
       "  <thead>\n",
       "    <tr style=\"text-align: right;\">\n",
       "      <th></th>\n",
       "      <th>tot_pol_cnt</th>\n",
       "      <th>no_hh_2021</th>\n",
       "      <th>adopt_rate</th>\n",
       "    </tr>\n",
       "  </thead>\n",
       "  <tbody>\n",
       "    <tr>\n",
       "      <th>count</th>\n",
       "      <td>2891.000000</td>\n",
       "      <td>2.891000e+03</td>\n",
       "      <td>2891.000000</td>\n",
       "    </tr>\n",
       "    <tr>\n",
       "      <th>mean</th>\n",
       "      <td>1301.600484</td>\n",
       "      <td>3.630939e+04</td>\n",
       "      <td>2.171844</td>\n",
       "    </tr>\n",
       "    <tr>\n",
       "      <th>std</th>\n",
       "      <td>9943.715026</td>\n",
       "      <td>1.104670e+05</td>\n",
       "      <td>7.497022</td>\n",
       "    </tr>\n",
       "    <tr>\n",
       "      <th>min</th>\n",
       "      <td>1.000000</td>\n",
       "      <td>1.942492e+02</td>\n",
       "      <td>0.000000</td>\n",
       "    </tr>\n",
       "    <tr>\n",
       "      <th>25%</th>\n",
       "      <td>14.000000</td>\n",
       "      <td>4.266454e+03</td>\n",
       "      <td>0.200000</td>\n",
       "    </tr>\n",
       "    <tr>\n",
       "      <th>50%</th>\n",
       "      <td>53.000000</td>\n",
       "      <td>9.235144e+03</td>\n",
       "      <td>0.500000</td>\n",
       "    </tr>\n",
       "    <tr>\n",
       "      <th>75%</th>\n",
       "      <td>212.000000</td>\n",
       "      <td>2.474313e+04</td>\n",
       "      <td>1.000000</td>\n",
       "    </tr>\n",
       "    <tr>\n",
       "      <th>max</th>\n",
       "      <td>309539.000000</td>\n",
       "      <td>3.140429e+06</td>\n",
       "      <td>123.800000</td>\n",
       "    </tr>\n",
       "  </tbody>\n",
       "</table>\n",
       "</div>"
      ],
      "text/plain": [
       "         tot_pol_cnt    no_hh_2021   adopt_rate\n",
       "count    2891.000000  2.891000e+03  2891.000000\n",
       "mean     1301.600484  3.630939e+04     2.171844\n",
       "std      9943.715026  1.104670e+05     7.497022\n",
       "min         1.000000  1.942492e+02     0.000000\n",
       "25%        14.000000  4.266454e+03     0.200000\n",
       "50%        53.000000  9.235144e+03     0.500000\n",
       "75%       212.000000  2.474313e+04     1.000000\n",
       "max    309539.000000  3.140429e+06   123.800000"
      ]
     },
     "execution_count": 13,
     "metadata": {},
     "output_type": "execute_result"
    }
   ],
   "source": [
    "gb_adopt2.describe()"
   ]
  },
  {
   "cell_type": "code",
   "execution_count": 12,
   "metadata": {},
   "outputs": [],
   "source": [
    "gb_adopt2.to_csv('../data/output/adopt_vol_ins_county.csv')"
   ]
  },
  {
   "cell_type": "code",
   "execution_count": 13,
   "metadata": {},
   "outputs": [],
   "source": [
    "# subsetting data for map analysis - over-insurance/under-insurance\n",
    "ins_rate = avg_tot_vol_ins_pur[['countyCode',\n",
    "                                'propertyState', \n",
    "                                'year', \n",
    "                                'buildingType',\n",
    "                                'sfha_flood_risk', \n",
    "                                'bld_ins_per_pol',\n",
    "                                'con_ins_per_pol'\n",
    "                               ]\n",
    "                              ]"
   ]
  },
  {
   "cell_type": "code",
   "execution_count": 14,
   "metadata": {},
   "outputs": [],
   "source": [
    "ins_rate = ins_rate[(ins_rate.year==2021) & (ins_rate.buildingType=='Residential')].reset_index(drop=True)"
   ]
  },
  {
   "cell_type": "code",
   "execution_count": 15,
   "metadata": {},
   "outputs": [],
   "source": [
    "gb_ins = ins_rate.groupby(['countyCode', 'sfha_flood_risk'])[['bld_ins_per_pol','con_ins_per_pol']].mean().reset_index()"
   ]
  },
  {
   "cell_type": "code",
   "execution_count": 16,
   "metadata": {},
   "outputs": [],
   "source": [
    "gb_ins2 = pd.merge(left=gb_ins,\n",
    "                   right=county_chars_all[['countyCode','countyName','stateName','med_house_price_2021']],\n",
    "                   on='countyCode',\n",
    "                   how='inner'\n",
    "                  )"
   ]
  },
  {
   "cell_type": "code",
   "execution_count": 17,
   "metadata": {},
   "outputs": [],
   "source": [
    "# analysis on voluntary over-insurance vs. under-insurance rates\n",
    "\n",
    "def insurance(bld_ins_per_pol, con_ins_per_pol, sfha_flood_risk, med_house_price_2021):\n",
    "    if sfha_flood_risk == 1: # shfa=1 means building insurance is mandatory, just examine non-mandatory contents insurance coverage\n",
    "        ins_rate = con_ins_per_pol/100000 # max fema contents coverage is $100000 per policy\n",
    "    else:\n",
    "        if con_ins_per_pol > 0: # sfha=0 and con_ins_per_pol>0 indicate voluntary purchases of building and contents insurance coverage\n",
    "            if med_house_price_2021 < 250000: # max fema building coverage for single residential homes is $250000 per policy\n",
    "                ins_rate = (bld_ins_per_pol + con_ins_per_pol)/(med_house_price_2021+100000)\n",
    "            else:\n",
    "                ins_rate = (bld_ins_per_pol + con_ins_per_pol)/(250000+100000)\n",
    "        else:\n",
    "            if med_house_price_2021 < 250000:\n",
    "                ins_rate = bld_ins_per_pol/med_house_price_2021\n",
    "            else:\n",
    "                ins_rate = bld_ins_per_pol/250000\n",
    "    return ins_rate*100\n",
    "  \n",
    "gb_ins2['ins_rate'] = gb_ins2.apply(lambda x: insurance(x.bld_ins_per_pol,\n",
    "                                                        x.con_ins_per_pol,\n",
    "                                                        x.sfha_flood_risk,\n",
    "                                                        x.med_house_price_2021\n",
    "                                                       ),\n",
    "                                                       axis=1\n",
    "                                    )"
   ]
  },
  {
   "cell_type": "code",
   "execution_count": 18,
   "metadata": {},
   "outputs": [],
   "source": [
    "# final group by for map\n",
    "gb_ins3 = gb_ins2.groupby(['countyCode','countyName','stateName'])['ins_rate'].mean().round(decimals=1).reset_index()"
   ]
  },
  {
   "cell_type": "code",
   "execution_count": 19,
   "metadata": {},
   "outputs": [
    {
     "data": {
      "text/html": [
       "<div>\n",
       "<style scoped>\n",
       "    .dataframe tbody tr th:only-of-type {\n",
       "        vertical-align: middle;\n",
       "    }\n",
       "\n",
       "    .dataframe tbody tr th {\n",
       "        vertical-align: top;\n",
       "    }\n",
       "\n",
       "    .dataframe thead th {\n",
       "        text-align: right;\n",
       "    }\n",
       "</style>\n",
       "<table border=\"1\" class=\"dataframe\">\n",
       "  <thead>\n",
       "    <tr style=\"text-align: right;\">\n",
       "      <th></th>\n",
       "      <th>ins_rate</th>\n",
       "    </tr>\n",
       "  </thead>\n",
       "  <tbody>\n",
       "    <tr>\n",
       "      <th>count</th>\n",
       "      <td>2889.000000</td>\n",
       "    </tr>\n",
       "    <tr>\n",
       "      <th>mean</th>\n",
       "      <td>70.170024</td>\n",
       "    </tr>\n",
       "    <tr>\n",
       "      <th>std</th>\n",
       "      <td>24.860624</td>\n",
       "    </tr>\n",
       "    <tr>\n",
       "      <th>min</th>\n",
       "      <td>1.400000</td>\n",
       "    </tr>\n",
       "    <tr>\n",
       "      <th>25%</th>\n",
       "      <td>55.500000</td>\n",
       "    </tr>\n",
       "    <tr>\n",
       "      <th>50%</th>\n",
       "      <td>66.400000</td>\n",
       "    </tr>\n",
       "    <tr>\n",
       "      <th>75%</th>\n",
       "      <td>79.500000</td>\n",
       "    </tr>\n",
       "    <tr>\n",
       "      <th>max</th>\n",
       "      <td>223.600000</td>\n",
       "    </tr>\n",
       "  </tbody>\n",
       "</table>\n",
       "</div>"
      ],
      "text/plain": [
       "          ins_rate\n",
       "count  2889.000000\n",
       "mean     70.170024\n",
       "std      24.860624\n",
       "min       1.400000\n",
       "25%      55.500000\n",
       "50%      66.400000\n",
       "75%      79.500000\n",
       "max     223.600000"
      ]
     },
     "execution_count": 19,
     "metadata": {},
     "output_type": "execute_result"
    }
   ],
   "source": [
    "gb_ins3.describe()"
   ]
  },
  {
   "cell_type": "code",
   "execution_count": 20,
   "metadata": {},
   "outputs": [],
   "source": [
    "gb_ins3.to_csv('../data/output/ins_rate_vol_ins_county.csv')"
   ]
  },
  {
   "cell_type": "code",
   "execution_count": null,
   "metadata": {},
   "outputs": [],
   "source": []
  }
 ],
 "metadata": {
  "kernelspec": {
   "display_name": "Python 3.9.8 ('.venv': venv)",
   "language": "python",
   "name": "python3"
  },
  "language_info": {
   "codemirror_mode": {
    "name": "ipython",
    "version": 3
   },
   "file_extension": ".py",
   "mimetype": "text/x-python",
   "name": "python",
   "nbconvert_exporter": "python",
   "pygments_lexer": "ipython3",
   "version": "3.9.8"
  },
  "orig_nbformat": 4,
  "vscode": {
   "interpreter": {
    "hash": "f08e7a81125859d02060c2adea9c0ca82efd7cb5dcb563e60aaa406d52b70e0d"
   }
  }
 },
 "nbformat": 4,
 "nbformat_minor": 2
}
