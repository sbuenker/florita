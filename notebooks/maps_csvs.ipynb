{
 "cells": [
  {
   "cell_type": "code",
   "execution_count": 12,
   "metadata": {},
   "outputs": [],
   "source": [
    "# generates .csv files used to plot the maps in datawrapper"
   ]
  },
  {
   "cell_type": "code",
   "execution_count": 13,
   "metadata": {},
   "outputs": [],
   "source": [
    "# import packages\n",
    "import pandas as pd\n",
    "import numpy as np\n",
    "import utils.utils as u"
   ]
  },
  {
   "cell_type": "code",
   "execution_count": 14,
   "metadata": {},
   "outputs": [
    {
     "name": "stderr",
     "output_type": "stream",
     "text": [
      "c:\\Users\\pacha\\Dropbox\\datascience\\projects\\florita\\notebooks\\utils\\utils.py:28: SettingWithCopyWarning: \n",
      "A value is trying to be set on a copy of a slice from a DataFrame.\n",
      "Try using .loc[row_indexer,col_indexer] = value instead\n",
      "\n",
      "See the caveats in the documentation: https://pandas.pydata.org/pandas-docs/stable/user_guide/indexing.html#returning-a-view-versus-a-copy\n",
      "  df[column[1]] = [by_code[fips][column[0]][column[1]] for fips in FipsDF.CountyFIPS]\n",
      "c:\\Users\\pacha\\Dropbox\\datascience\\projects\\florita\\notebooks\\utils\\utils.py:30: SettingWithCopyWarning: \n",
      "A value is trying to be set on a copy of a slice from a DataFrame.\n",
      "Try using .loc[row_indexer,col_indexer] = value instead\n",
      "\n",
      "See the caveats in the documentation: https://pandas.pydata.org/pandas-docs/stable/user_guide/indexing.html#returning-a-view-versus-a-copy\n",
      "  df['County'] =  [by_code[fips]['CountyFull'] for fips in FipsDF.CountyFIPS]\n",
      "c:\\Users\\pacha\\Dropbox\\datascience\\projects\\florita\\notebooks\\utils\\utils.py:32: SettingWithCopyWarning: \n",
      "A value is trying to be set on a copy of a slice from a DataFrame.\n",
      "Try using .loc[row_indexer,col_indexer] = value instead\n",
      "\n",
      "See the caveats in the documentation: https://pandas.pydata.org/pandas-docs/stable/user_guide/indexing.html#returning-a-view-versus-a-copy\n",
      "  df['State'] =  [by_code[fips]['State'] for fips in FipsDF.CountyFIPS]\n"
     ]
    }
   ],
   "source": [
    "# generates csv for the voluntary insurance adoption rates \n",
    "avg_tot_vol_ins_pur = pd.read_csv('../bigquery/data/avg_tot_vol_ins_pur.csv', dtype={'countyCode': str})\n",
    "households = u.get_demographics([('Housing', 'Households')], name=True, state=True)\n",
    "households['county_state'] = [c + ', ' + s if s=='AK' or s=='LA' else c + ' County, ' + s for c, s in zip(households.County, households.State)]\n",
    "adopt_rate = avg_tot_vol_ins_pur[['countyCode', 'propertyState', 'year', 'buildingType', 'tot_pol_cnt']]\n",
    "adopt_rate = adopt_rate[(adopt_rate.year==2021) & (adopt_rate.buildingType.str.contains('Residential'))].reset_index(drop=True)\n",
    "gb_adopt = adopt_rate.groupby('countyCode')['tot_pol_cnt'].sum().reset_index()\n",
    "gb_adopt2 = pd.merge(left=gb_adopt,\n",
    "                     right=households[['CountyFIPS', 'County', 'State', 'county_state','Households']],\n",
    "                     left_on='countyCode',\n",
    "                     right_on='CountyFIPS',\n",
    "                     how='inner'\n",
    "                    )\n",
    "gb_adopt2 = gb_adopt2[['countyCode', 'County', 'State', 'county_state', 'tot_pol_cnt', 'Households']]\n",
    "gb_adopt2['adopt_rate'] = round((gb_adopt2['tot_pol_cnt']/gb_adopt2['Households'])*100,1)\n",
    "gb_adopt2.to_csv('../data/adoption_rates.csv')"
   ]
  },
  {
   "cell_type": "code",
   "execution_count": 17,
   "metadata": {},
   "outputs": [
    {
     "name": "stderr",
     "output_type": "stream",
     "text": [
      "c:\\Users\\pacha\\Dropbox\\datascience\\projects\\florita\\notebooks\\utils\\utils.py:28: SettingWithCopyWarning: \n",
      "A value is trying to be set on a copy of a slice from a DataFrame.\n",
      "Try using .loc[row_indexer,col_indexer] = value instead\n",
      "\n",
      "See the caveats in the documentation: https://pandas.pydata.org/pandas-docs/stable/user_guide/indexing.html#returning-a-view-versus-a-copy\n",
      "  df[column[1]] = [by_code[fips][column[0]][column[1]] for fips in FipsDF.CountyFIPS]\n",
      "c:\\Users\\pacha\\Dropbox\\datascience\\projects\\florita\\notebooks\\utils\\utils.py:30: SettingWithCopyWarning: \n",
      "A value is trying to be set on a copy of a slice from a DataFrame.\n",
      "Try using .loc[row_indexer,col_indexer] = value instead\n",
      "\n",
      "See the caveats in the documentation: https://pandas.pydata.org/pandas-docs/stable/user_guide/indexing.html#returning-a-view-versus-a-copy\n",
      "  df['County'] =  [by_code[fips]['CountyFull'] for fips in FipsDF.CountyFIPS]\n",
      "c:\\Users\\pacha\\Dropbox\\datascience\\projects\\florita\\notebooks\\utils\\utils.py:32: SettingWithCopyWarning: \n",
      "A value is trying to be set on a copy of a slice from a DataFrame.\n",
      "Try using .loc[row_indexer,col_indexer] = value instead\n",
      "\n",
      "See the caveats in the documentation: https://pandas.pydata.org/pandas-docs/stable/user_guide/indexing.html#returning-a-view-versus-a-copy\n",
      "  df['State'] =  [by_code[fips]['State'] for fips in FipsDF.CountyFIPS]\n"
     ]
    }
   ],
   "source": [
    "# generates dataframe with county names, fips, insurance rates per policy, median house prices\n",
    "avg_tot_vol_ins_pur = pd.read_csv('../bigquery/data/avg_tot_vol_ins_pur.csv', dtype={'countyCode': str})\n",
    "household_value = u.get_demographics([('Housing', 'Median Value of Owner-Occupied Units')], name=True, state=True)\n",
    "household_value.columns = household_value.columns.str.replace(' ', '_').str.replace('-', '_')\n",
    "household_value['county_state'] = [c + ', ' + s if s=='AK' or s=='LA' else c + ' County, ' + s for c, s in zip(household_value.County, household_value.State)]\n",
    "ins_rate_vol = avg_tot_vol_ins_pur[['countyCode', 'propertyState', 'year', 'buildingType', 'sfha_flood_risk', 'bld_ins_per_pol', 'con_ins_per_pol']]\n",
    "ins_rate_vol = ins_rate_vol[(ins_rate_vol.year==2021) & (ins_rate_vol.buildingType=='Residential')].reset_index(drop=True)\n",
    "gb_ins_rate_vol = ins_rate_vol.groupby(['countyCode', 'sfha_flood_risk'])[['bld_ins_per_pol','con_ins_per_pol']].mean().reset_index()\n",
    "gb_ins_rate_vol2 = pd.merge(left=gb_ins_rate_vol,\n",
    "                            right=household_value[['CountyFIPS', 'County', 'State', 'county_state', 'Median_Value_of_Owner_Occupied_Units']],\n",
    "                            left_on='countyCode',\n",
    "                            right_on='CountyFIPS',\n",
    "                            how='inner'\n",
    "                            )  "
   ]
  },
  {
   "cell_type": "code",
   "execution_count": 18,
   "metadata": {},
   "outputs": [],
   "source": [
    "# create function to calculate voluntarily purchased flood insurance\n",
    "def vol_insurance(bld_ins_per_pol, con_ins_per_pol, sfha_flood_risk, Median_Value_of_Owner_Occupied_Units):\n",
    "    if sfha_flood_risk == 1: # shfa=1 means building insurance is mandatory, just examine non_mandatory contents insurance coverage\n",
    "        ins_rate = con_ins_per_pol/100000 # max fema contents coverage is $100000 per policy\n",
    "    else:\n",
    "        if con_ins_per_pol > 0: # sfha=0 and con_ins_per_pol>0 indicate voluntary purchases of building and contents insurance coverage\n",
    "            if Median_Value_of_Owner_Occupied_Units < 250000: # max fema building coverage for single residential homes is $250000 per policy\n",
    "                ins_rate = (bld_ins_per_pol + con_ins_per_pol)/(Median_Value_of_Owner_Occupied_Units+100000)\n",
    "            else:\n",
    "                ins_rate = (bld_ins_per_pol + con_ins_per_pol)/(250000+100000)\n",
    "        else:\n",
    "            if Median_Value_of_Owner_Occupied_Units < 250000:\n",
    "                ins_rate = bld_ins_per_pol/Median_Value_of_Owner_Occupied_Units\n",
    "            else:\n",
    "                ins_rate = bld_ins_per_pol/250000\n",
    "    return ins_rate*100"
   ]
  },
  {
   "cell_type": "code",
   "execution_count": 19,
   "metadata": {},
   "outputs": [],
   "source": [
    "# apply function to relevant series\n",
    "gb_ins_rate_vol2['vol_ins_rate'] = gb_ins_rate_vol2.apply(lambda x: vol_insurance(x.bld_ins_per_pol, \n",
    "                                                                                  x.con_ins_per_pol,\n",
    "                                                                                  x.sfha_flood_risk, \n",
    "                                                                                  x.Median_Value_of_Owner_Occupied_Units\n",
    "                                                                                  ),\n",
    "                                                                                  axis=1\n",
    "                                                                                  )"
   ]
  },
  {
   "cell_type": "code",
   "execution_count": 20,
   "metadata": {},
   "outputs": [],
   "source": [
    "# collapsing data by county and saving output to csv\n",
    "gb_ins_rate_vol3 = gb_ins_rate_vol2.groupby(['countyCode', 'County', 'State', 'county_state']).agg({\n",
    "    'Median_Value_of_Owner_Occupied_Units': np.median,\n",
    "    'vol_ins_rate': np.mean\n",
    "    }).round(1).reset_index()\n",
    "gb_ins_rate_vol3['Median_Value_of_Owner_Occupied_Units'] = gb_ins_rate_vol3['Median_Value_of_Owner_Occupied_Units'].astype(int)\n",
    "gb_ins_rate_vol3.to_csv('../data/vol_ins_rates.csv')"
   ]
  },
  {
   "cell_type": "code",
   "execution_count": 30,
   "metadata": {},
   "outputs": [],
   "source": [
    "# append county_state string to total claims data\n",
    "# format total_claims column\n",
    "fema_counts_total_avg = pd.read_csv('../data/fema_counts_total_avg.csv', dtype={'countyCode': str})\n",
    "households = u.get_demographics([('Housing', 'Households')], name=True, state=True)\n",
    "households['county_state'] = [c + ', ' + s if s=='AK' or s=='LA' else c + ' County, ' + s for c, s in zip(households.County, households.State)]\n",
    "claims_tot = households.merge(right=fema_counts_total_avg,\n",
    "                              left_on='CountyFIPS',\n",
    "                              right_on='countyCode', \n",
    "                              how='inner'\n",
    "                              )\n",
    "claims_tot = claims_tot[['countyCode', \n",
    "                         'County', \n",
    "                         'State', \n",
    "                         'county_state', \n",
    "                         'total_claims'\n",
    "                        ]]\n",
    "claims_tot['total_claims'] = claims_tot['total_claims'].round(0)\n",
    "claims_tot.loc[:, 'total_coverage'] = '$'+ claims_tot['total_coverage'].map('{:,.0f}'.format)\n",
    "claims_tot.to_csv('../data/claims_tot.csv')\n"
   ]
  },
  {
   "cell_type": "code",
   "execution_count": null,
   "metadata": {},
   "outputs": [],
   "source": []
  }
 ],
 "metadata": {
  "kernelspec": {
   "display_name": ".venv",
   "language": "python",
   "name": "python3"
  },
  "language_info": {
   "codemirror_mode": {
    "name": "ipython",
    "version": 3
   },
   "file_extension": ".py",
   "mimetype": "text/x-python",
   "name": "python",
   "nbconvert_exporter": "python",
   "pygments_lexer": "ipython3",
   "version": "3.9.12 (main, Apr  4 2022, 05:22:27) [MSC v.1916 64 bit (AMD64)]"
  },
  "orig_nbformat": 4,
  "vscode": {
   "interpreter": {
    "hash": "facc6be1714b42c360693395b862d23a247ab117bac31c5af9f595d9420fee7f"
   }
  }
 },
 "nbformat": 4,
 "nbformat_minor": 2
}
