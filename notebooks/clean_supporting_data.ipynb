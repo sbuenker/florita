{
 "cells": [
  {
   "cell_type": "code",
   "execution_count": 1,
   "metadata": {},
   "outputs": [],
   "source": [
    "# import packages\n",
    "import pandas as pd\n",
    "import numpy as np"
   ]
  },
  {
   "cell_type": "code",
   "execution_count": 2,
   "metadata": {},
   "outputs": [],
   "source": [
    "# import population by county data\n",
    "# https://www2.census.gov/programs-surveys/popest/datasets/2020-2021/counties/totals/co-est2021-alldata.csv\n",
    "# average us household size in 2021 = 3.13 \n",
    "# https://www.statista.com/statistics/183657/average-size-of-a-family-in-the-us/\n",
    "\n",
    "population = pd.read_csv('../data/input/pop_county.csv',\n",
    "                         encoding='latin-1',\n",
    "                         usecols=['STATE', 'COUNTY', 'STNAME', 'CTYNAME', 'POPESTIMATE2021'],\n",
    "                         dtype={'STATE': str, 'COUNTY': str}\n",
    "                        )\n",
    "\n",
    "# lowercase for column names\n",
    "population.columns = population.columns.str.lower()                        "
   ]
  },
  {
   "cell_type": "code",
   "execution_count": 3,
   "metadata": {},
   "outputs": [],
   "source": [
    "# define countyCode and no_households\n",
    "population['countyCode'] = population.state + population.county \n",
    "population['no_hh_2021'] = population.popestimate2021/3.13 # divide population of county by average US household (2021)\n",
    "\n",
    "# mapping of us states to abbreviations\n",
    "us_state_to_abbrev = {\n",
    "    \"Alabama\": \"AL\",\n",
    "    \"Alaska\": \"AK\",\n",
    "    \"Arizona\": \"AZ\",\n",
    "    \"Arkansas\": \"AR\",\n",
    "    \"California\": \"CA\",\n",
    "    \"Colorado\": \"CO\",\n",
    "    \"Connecticut\": \"CT\",\n",
    "    \"Delaware\": \"DE\",\n",
    "    \"Florida\": \"FL\",\n",
    "    \"Georgia\": \"GA\",\n",
    "    \"Hawaii\": \"HI\",\n",
    "    \"Idaho\": \"ID\",\n",
    "    \"Illinois\": \"IL\",\n",
    "    \"Indiana\": \"IN\",\n",
    "    \"Iowa\": \"IA\",\n",
    "    \"Kansas\": \"KS\",\n",
    "    \"Kentucky\": \"KY\",\n",
    "    \"Louisiana\": \"LA\",\n",
    "    \"Maine\": \"ME\",\n",
    "    \"Maryland\": \"MD\",\n",
    "    \"Massachusetts\": \"MA\",\n",
    "    \"Michigan\": \"MI\",\n",
    "    \"Minnesota\": \"MN\",\n",
    "    \"Mississippi\": \"MS\",\n",
    "    \"Missouri\": \"MO\",\n",
    "    \"Montana\": \"MT\",\n",
    "    \"Nebraska\": \"NE\",\n",
    "    \"Nevada\": \"NV\",\n",
    "    \"New Hampshire\": \"NH\",\n",
    "    \"New Jersey\": \"NJ\",\n",
    "    \"New Mexico\": \"NM\",\n",
    "    \"New York\": \"NY\",\n",
    "    \"North Carolina\": \"NC\",\n",
    "    \"North Dakota\": \"ND\",\n",
    "    \"Ohio\": \"OH\",\n",
    "    \"Oklahoma\": \"OK\",\n",
    "    \"Oregon\": \"OR\",\n",
    "    \"Pennsylvania\": \"PA\",\n",
    "    \"Rhode Island\": \"RI\",\n",
    "    \"South Carolina\": \"SC\",\n",
    "    \"South Dakota\": \"SD\",\n",
    "    \"Tennessee\": \"TN\",\n",
    "    \"Texas\": \"TX\",\n",
    "    \"Utah\": \"UT\",\n",
    "    \"Vermont\": \"VT\",\n",
    "    \"Virginia\": \"VA\",\n",
    "    \"Washington\": \"WA\",\n",
    "    \"West Virginia\": \"WV\",\n",
    "    \"Wisconsin\": \"WI\",\n",
    "    \"Wyoming\": \"WY\",\n",
    "    \"District of Columbia\": \"DC\",\n",
    "    \"American Samoa\": \"AS\",\n",
    "    \"Guam\": \"GU\",\n",
    "    \"Northern Mariana Islands\": \"MP\",\n",
    "    \"Puerto Rico\": \"PR\",\n",
    "    \"United States Minor Outlying Islands\": \"UM\",\n",
    "    \"U.S. Virgin Islands\": \"VI\",\n",
    "}\n",
    "\n",
    "# apply mapping\n",
    "population['state_2d'] = population.stname.map(us_state_to_abbrev)\n",
    "\n",
    "# subset data\n",
    "population = population[['countyCode', 'ctyname', 'state_2d', 'popestimate2021', 'no_hh_2021']]"
   ]
  },
  {
   "cell_type": "code",
   "execution_count": 4,
   "metadata": {},
   "outputs": [],
   "source": [
    "# remove observations where state name is listed as county name\n",
    "population = population[~population.ctyname.isin(list(us_state_to_abbrev.keys()))]"
   ]
  },
  {
   "cell_type": "code",
   "execution_count": 5,
   "metadata": {},
   "outputs": [],
   "source": [
    "# import house price data\n",
    "# median house price by county in q4 2021\n",
    "# https://www.nar.realtor/research-and-statistics/housing-statistics/county-median-home-prices-and-monthly-mortgage-payment\n",
    "\n",
    "house_price = pd.read_csv('../data/input/houseprice.csv', \n",
    "                          encoding='utf-16', \n",
    "                          sep='\\t',\n",
    "                          dtype={'Full County Number': str}\n",
    "                         )\n"
   ]
  },
  {
   "cell_type": "code",
   "execution_count": 6,
   "metadata": {},
   "outputs": [],
   "source": [
    "house_price.columns = house_price.columns.str.replace(' ','_').str.lower()\n",
    "house_price = house_price.rename({'q4_2021': 'med_house_price_2021',\n",
    "                                  'full_county_number': 'countyCode'}, \n",
    "                                  axis=1\n",
    "                                )"
   ]
  },
  {
   "cell_type": "code",
   "execution_count": 7,
   "metadata": {},
   "outputs": [],
   "source": [
    "house_price.med_house_price_2021 = house_price.med_house_price_2021.str[1:].str.replace(',','')\n",
    "house_price.med_house_price_2021 = house_price.med_house_price_2021.astype('int64', errors='ignore')"
   ]
  },
  {
   "cell_type": "code",
   "execution_count": 8,
   "metadata": {},
   "outputs": [
    {
     "data": {
      "text/html": [
       "<div>\n",
       "<style scoped>\n",
       "    .dataframe tbody tr th:only-of-type {\n",
       "        vertical-align: middle;\n",
       "    }\n",
       "\n",
       "    .dataframe tbody tr th {\n",
       "        vertical-align: top;\n",
       "    }\n",
       "\n",
       "    .dataframe thead th {\n",
       "        text-align: right;\n",
       "    }\n",
       "</style>\n",
       "<table border=\"1\" class=\"dataframe\">\n",
       "  <thead>\n",
       "    <tr style=\"text-align: right;\">\n",
       "      <th></th>\n",
       "      <th>countyCode</th>\n",
       "      <th>med_house_price_2021</th>\n",
       "    </tr>\n",
       "  </thead>\n",
       "  <tbody>\n",
       "    <tr>\n",
       "      <th>0</th>\n",
       "      <td>55107</td>\n",
       "      <td>139179</td>\n",
       "    </tr>\n",
       "    <tr>\n",
       "      <th>1</th>\n",
       "      <td>55099</td>\n",
       "      <td>150348</td>\n",
       "    </tr>\n",
       "    <tr>\n",
       "      <th>2</th>\n",
       "      <td>55078</td>\n",
       "      <td>124942</td>\n",
       "    </tr>\n",
       "    <tr>\n",
       "      <th>3</th>\n",
       "      <td>55067</td>\n",
       "      <td>139793</td>\n",
       "    </tr>\n",
       "    <tr>\n",
       "      <th>4</th>\n",
       "      <td>55003</td>\n",
       "      <td>138811</td>\n",
       "    </tr>\n",
       "    <tr>\n",
       "      <th>...</th>\n",
       "      <td>...</td>\n",
       "      <td>...</td>\n",
       "    </tr>\n",
       "    <tr>\n",
       "      <th>3115</th>\n",
       "      <td>06075</td>\n",
       "      <td>1230797</td>\n",
       "    </tr>\n",
       "    <tr>\n",
       "      <th>3116</th>\n",
       "      <td>06041</td>\n",
       "      <td>1090583</td>\n",
       "    </tr>\n",
       "    <tr>\n",
       "      <th>3121</th>\n",
       "      <td>46095</td>\n",
       "      <td>39349</td>\n",
       "    </tr>\n",
       "    <tr>\n",
       "      <th>3122</th>\n",
       "      <td>46017</td>\n",
       "      <td>60066</td>\n",
       "    </tr>\n",
       "    <tr>\n",
       "      <th>3135</th>\n",
       "      <td>02261</td>\n",
       "      <td>260338</td>\n",
       "    </tr>\n",
       "  </tbody>\n",
       "</table>\n",
       "<p>3120 rows × 2 columns</p>\n",
       "</div>"
      ],
      "text/plain": [
       "     countyCode med_house_price_2021\n",
       "0         55107               139179\n",
       "1         55099               150348\n",
       "2         55078               124942\n",
       "3         55067               139793\n",
       "4         55003               138811\n",
       "...         ...                  ...\n",
       "3115      06075              1230797\n",
       "3116      06041              1090583\n",
       "3121      46095                39349\n",
       "3122      46017                60066\n",
       "3135      02261               260338\n",
       "\n",
       "[3120 rows x 2 columns]"
      ]
     },
     "execution_count": 8,
     "metadata": {},
     "output_type": "execute_result"
    }
   ],
   "source": [
    "house_price.dropna(axis=0)"
   ]
  },
  {
   "cell_type": "code",
   "execution_count": 9,
   "metadata": {},
   "outputs": [],
   "source": [
    "# import latitude and longitude data\n",
    "# data on county, average latitude and longitude data for centre of county\n",
    "# https://gist.github.com/russellsamora/12be4f9f574e92413ea3f92ce1bc58e6\n",
    "\n",
    "lat_long = pd.read_csv('../data/input/county_lat_long.csv', \n",
    "                       encoding='latin-1',\n",
    "                       usecols=['fips_code', 'lat', 'lng'],\n",
    "                       dtype={'fips_code': str}\n",
    "                      )"
   ]
  },
  {
   "cell_type": "code",
   "execution_count": 10,
   "metadata": {},
   "outputs": [
    {
     "data": {
      "text/html": [
       "<div>\n",
       "<style scoped>\n",
       "    .dataframe tbody tr th:only-of-type {\n",
       "        vertical-align: middle;\n",
       "    }\n",
       "\n",
       "    .dataframe tbody tr th {\n",
       "        vertical-align: top;\n",
       "    }\n",
       "\n",
       "    .dataframe thead th {\n",
       "        text-align: right;\n",
       "    }\n",
       "</style>\n",
       "<table border=\"1\" class=\"dataframe\">\n",
       "  <thead>\n",
       "    <tr style=\"text-align: right;\">\n",
       "      <th></th>\n",
       "      <th>fips_code</th>\n",
       "      <th>lng</th>\n",
       "      <th>lat</th>\n",
       "    </tr>\n",
       "  </thead>\n",
       "  <tbody>\n",
       "    <tr>\n",
       "      <th>0</th>\n",
       "      <td>01059</td>\n",
       "      <td>-87.843283</td>\n",
       "      <td>34.442381</td>\n",
       "    </tr>\n",
       "    <tr>\n",
       "      <th>1</th>\n",
       "      <td>13111</td>\n",
       "      <td>-84.319296</td>\n",
       "      <td>34.864126</td>\n",
       "    </tr>\n",
       "    <tr>\n",
       "      <th>2</th>\n",
       "      <td>19109</td>\n",
       "      <td>-94.206898</td>\n",
       "      <td>43.204140</td>\n",
       "    </tr>\n",
       "    <tr>\n",
       "      <th>3</th>\n",
       "      <td>40115</td>\n",
       "      <td>-94.810589</td>\n",
       "      <td>36.835878</td>\n",
       "    </tr>\n",
       "    <tr>\n",
       "      <th>4</th>\n",
       "      <td>42115</td>\n",
       "      <td>-75.800905</td>\n",
       "      <td>41.821277</td>\n",
       "    </tr>\n",
       "    <tr>\n",
       "      <th>...</th>\n",
       "      <td>...</td>\n",
       "      <td>...</td>\n",
       "      <td>...</td>\n",
       "    </tr>\n",
       "    <tr>\n",
       "      <th>3228</th>\n",
       "      <td>12029</td>\n",
       "      <td>-83.158705</td>\n",
       "      <td>29.608068</td>\n",
       "    </tr>\n",
       "    <tr>\n",
       "      <th>3229</th>\n",
       "      <td>18017</td>\n",
       "      <td>-86.346207</td>\n",
       "      <td>40.761660</td>\n",
       "    </tr>\n",
       "    <tr>\n",
       "      <th>3230</th>\n",
       "      <td>26091</td>\n",
       "      <td>-84.066412</td>\n",
       "      <td>41.894694</td>\n",
       "    </tr>\n",
       "    <tr>\n",
       "      <th>3231</th>\n",
       "      <td>72003</td>\n",
       "      <td>-67.175247</td>\n",
       "      <td>18.360392</td>\n",
       "    </tr>\n",
       "    <tr>\n",
       "      <th>3232</th>\n",
       "      <td>72013</td>\n",
       "      <td>-66.674003</td>\n",
       "      <td>18.406540</td>\n",
       "    </tr>\n",
       "  </tbody>\n",
       "</table>\n",
       "<p>3233 rows × 3 columns</p>\n",
       "</div>"
      ],
      "text/plain": [
       "     fips_code        lng        lat\n",
       "0        01059 -87.843283  34.442381\n",
       "1        13111 -84.319296  34.864126\n",
       "2        19109 -94.206898  43.204140\n",
       "3        40115 -94.810589  36.835878\n",
       "4        42115 -75.800905  41.821277\n",
       "...        ...        ...        ...\n",
       "3228     12029 -83.158705  29.608068\n",
       "3229     18017 -86.346207  40.761660\n",
       "3230     26091 -84.066412  41.894694\n",
       "3231     72003 -67.175247  18.360392\n",
       "3232     72013 -66.674003  18.406540\n",
       "\n",
       "[3233 rows x 3 columns]"
      ]
     },
     "execution_count": 10,
     "metadata": {},
     "output_type": "execute_result"
    }
   ],
   "source": [
    "lat_long"
   ]
  },
  {
   "cell_type": "code",
   "execution_count": 11,
   "metadata": {},
   "outputs": [],
   "source": [
    "lat_long.rename({'fips_code': 'countyCode'}, axis=1, inplace=True)"
   ]
  },
  {
   "cell_type": "code",
   "execution_count": 12,
   "metadata": {},
   "outputs": [],
   "source": [
    "# import household income data\n",
    "# data on median household income by county \n",
    "# https://www.ers.usda.gov/data-products/county-level-data-sets/county-level-data-sets-download-data/\n",
    "\n",
    "med_inc_hh_2020 = pd.read_csv('../data/input/income.csv', \n",
    "                              usecols=['FIPS_Code', 'Attribute', 'Value'],\n",
    "                              dtype={'FIPS_Code': str}\n",
    "                             )"
   ]
  },
  {
   "cell_type": "code",
   "execution_count": 13,
   "metadata": {},
   "outputs": [],
   "source": [
    "med_inc_hh_2020 = med_inc_hh_2020[med_inc_hh_2020['Attribute'] == 'Median_Household_Income_2020'].reset_index(drop=True)"
   ]
  },
  {
   "cell_type": "code",
   "execution_count": 14,
   "metadata": {},
   "outputs": [],
   "source": [
    "# leading zero missing from 4-digit FIPS; add this back\n",
    "def add_zero(x):\n",
    "    if len(x) == 4:\n",
    "        return '0' + x\n",
    "    else:\n",
    "        return x\n",
    "\n",
    "med_inc_hh_2020['FIPS_Code'] = med_inc_hh_2020.FIPS_Code.apply(add_zero)"
   ]
  },
  {
   "cell_type": "code",
   "execution_count": 15,
   "metadata": {},
   "outputs": [],
   "source": [
    "med_inc_hh_2020 = med_inc_hh_2020.rename({'FIPS_Code': 'countyCode', 'Value': 'med_HH_inc_2020'}, axis=1)\n",
    "med_inc_hh_2020.drop('Attribute', axis=1, inplace=True)"
   ]
  },
  {
   "cell_type": "code",
   "execution_count": 16,
   "metadata": {},
   "outputs": [],
   "source": [
    "# merge all datasets together\n",
    "pop_house_price = pd.merge(left=population, right=house_price, on='countyCode', how='left')\n",
    "pop_house_price_inc = pd.merge(left=pop_house_price, right=med_inc_hh_2020, on='countyCode', how='left')\n",
    "county_chars_all = pd.merge(left=pop_house_price_inc, right=lat_long, on='countyCode', how='left')"
   ]
  },
  {
   "cell_type": "code",
   "execution_count": 17,
   "metadata": {},
   "outputs": [],
   "source": [
    "county_chars_all.rename({'ctyname': 'countyName',\n",
    "                         'state_2d': 'stateName', \n",
    "                         'popestimate2021': 'pop_2021',\n",
    "                         'lng': 'long'},\n",
    "                        axis=1, inplace=True\n",
    "                        )"
   ]
  },
  {
   "cell_type": "code",
   "execution_count": 18,
   "metadata": {},
   "outputs": [],
   "source": [
    "county_chars_all = county_chars_all.dropna(axis=0).reset_index(drop=True)"
   ]
  },
  {
   "cell_type": "code",
   "execution_count": 19,
   "metadata": {},
   "outputs": [
    {
     "name": "stdout",
     "output_type": "stream",
     "text": [
      "<class 'pandas.core.frame.DataFrame'>\n",
      "RangeIndex: 3118 entries, 0 to 3117\n",
      "Data columns (total 9 columns):\n",
      " #   Column                Non-Null Count  Dtype  \n",
      "---  ------                --------------  -----  \n",
      " 0   countyCode            3118 non-null   object \n",
      " 1   countyName            3118 non-null   object \n",
      " 2   stateName             3118 non-null   object \n",
      " 3   pop_2021              3118 non-null   int64  \n",
      " 4   no_hh_2021            3118 non-null   float64\n",
      " 5   med_house_price_2021  3118 non-null   object \n",
      " 6   med_HH_inc_2020       3118 non-null   float64\n",
      " 7   long                  3118 non-null   float64\n",
      " 8   lat                   3118 non-null   float64\n",
      "dtypes: float64(4), int64(1), object(4)\n",
      "memory usage: 219.4+ KB\n"
     ]
    }
   ],
   "source": [
    "county_chars_all.info()"
   ]
  },
  {
   "cell_type": "code",
   "execution_count": 20,
   "metadata": {},
   "outputs": [],
   "source": [
    "county_chars_all['pop_2021'] = county_chars_all['pop_2021'].astype('float')\n",
    "county_chars_all['med_house_price_2021'] = county_chars_all['med_house_price_2021'].astype('float')"
   ]
  },
  {
   "cell_type": "code",
   "execution_count": 21,
   "metadata": {},
   "outputs": [
    {
     "name": "stdout",
     "output_type": "stream",
     "text": [
      "<class 'pandas.core.frame.DataFrame'>\n",
      "RangeIndex: 3118 entries, 0 to 3117\n",
      "Data columns (total 9 columns):\n",
      " #   Column                Non-Null Count  Dtype  \n",
      "---  ------                --------------  -----  \n",
      " 0   countyCode            3118 non-null   object \n",
      " 1   countyName            3118 non-null   object \n",
      " 2   stateName             3118 non-null   object \n",
      " 3   pop_2021              3118 non-null   float64\n",
      " 4   no_hh_2021            3118 non-null   float64\n",
      " 5   med_house_price_2021  3118 non-null   float64\n",
      " 6   med_HH_inc_2020       3118 non-null   float64\n",
      " 7   long                  3118 non-null   float64\n",
      " 8   lat                   3118 non-null   float64\n",
      "dtypes: float64(6), object(3)\n",
      "memory usage: 219.4+ KB\n"
     ]
    }
   ],
   "source": [
    "county_chars_all.info()"
   ]
  },
  {
   "cell_type": "code",
   "execution_count": 22,
   "metadata": {},
   "outputs": [],
   "source": [
    "# save dataframe as parquet to preserve datatypes\n",
    "county_chars_all.to_parquet('../data/output/county_chars_all.gzip', compression='gzip')"
   ]
  }
 ],
 "metadata": {
  "kernelspec": {
   "display_name": "Python 3.9.8 ('.venv': venv)",
   "language": "python",
   "name": "python3"
  },
  "language_info": {
   "codemirror_mode": {
    "name": "ipython",
    "version": 3
   },
   "file_extension": ".py",
   "mimetype": "text/x-python",
   "name": "python",
   "nbconvert_exporter": "python",
   "pygments_lexer": "ipython3",
   "version": "3.9.8"
  },
  "orig_nbformat": 4,
  "vscode": {
   "interpreter": {
    "hash": "f08e7a81125859d02060c2adea9c0ca82efd7cb5dcb563e60aaa406d52b70e0d"
   }
  }
 },
 "nbformat": 4,
 "nbformat_minor": 2
}
