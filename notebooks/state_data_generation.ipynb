{
 "cells": [
  {
   "cell_type": "markdown",
   "metadata": {},
   "source": [
    "## Generating Data Subsets in Parquet Format with Dask"
   ]
  },
  {
   "cell_type": "markdown",
   "metadata": {},
   "source": [
    "Since the flood insurance policies data set is too large to fit into memory, we subset it with Dask and save the subsets we want to work with in .parquet format. "
   ]
  },
  {
   "cell_type": "code",
   "execution_count": 1,
   "metadata": {},
   "outputs": [],
   "source": [
    "import dask.dataframe as dd\n",
    "import pandas as pd\n",
    "import numpy as np\n"
   ]
  },
  {
   "cell_type": "markdown",
   "metadata": {},
   "source": [
    "Reading the data from .csv with manually optimized datatypes."
   ]
  },
  {
   "cell_type": "code",
   "execution_count": 2,
   "metadata": {},
   "outputs": [],
   "source": [
    "df = dd.read_csv(\"../data/FimaNfipPolicies.csv\", dtype={\"agricultureStructureIndicator\": \"bool\", \n",
    "\"baseFloodElevation\":                    \"float32\", \n",
    "\"basementEnclosureCrawlspace\":           \"float32\", \n",
    "\"censusTract\":                           \"float32\", \n",
    "\"cancellationDateOfFloodPolicy\":          \"string\", \n",
    "\"condominiumIndicator\":                   \"string\", \n",
    "\"construction\":                            \"bool\", \n",
    "\"countyCode\":                            \"string\", \n",
    "\"crsClassCode\":                          \"float32\", \n",
    "\"deductibleAmountInBuildingCoverage\":     \"string\", \n",
    "\"deductibleAmountInContentsCoverage\":     \"string\", \n",
    "\"elevationBuildingIndicator\":              \"bool\",\n",
    "\"elevationCertificateIndicator\":         \"float32\",\n",
    "\"elevationDifference\":                   \"float32\", \n",
    "\"federalPolicyFee\":                        \"int16\", \n",
    "\"floodZone\":                              \"string\", \n",
    "\"hfiaaSurcharge\":                          \"int16\", \n",
    "\"houseOfWorshipIndicator\":                 \"bool\", \n",
    "\"latitude\":                              \"float32\",\n",
    "\"longitude\":                             \"float32\",\n",
    "\"locationOfContents\":                    \"float32\",\n",
    "\"lowestAdjacentGrade\":                   \"float32\",\n",
    "\"lowestFloorElevation\":                  \"float32\",\n",
    "\"nonProfitIndicator\":                      \"bool\",\n",
    "\"numberOfFloorsInTheInsuredBuilding\":    \"float32\",\n",
    "\"obstructionType\":                       \"float32\",\n",
    "\"occupancyType\":                         \"float32\",\n",
    "\"originalConstructionDate\":               \"string\",\n",
    "\"originalNBDate\":                         \"string\",\n",
    "\"policyCost\":                              \"int32\",\n",
    "\"policyCount\":                             \"int16\",\n",
    "\"policyEffectiveDate\":                    \"string\",\n",
    "\"policyTerminationDate\":                  \"string\",\n",
    "\"policyTermIndicator\":                   \"float32\",\n",
    "\"postFIRMConstructionIndicator\":           \"bool\",\n",
    "\"primaryResidenceIndicator\":               \"bool\",\n",
    "\"propertyState\":                          \"string\",\n",
    "\"reportedZipCode\":                        \"string\", \n",
    "\"rateMethod\":                             \"string\",\n",
    "\"regularEmergencyProgramIndicator\":       \"string\",\n",
    "\"reportedCity\":                           \"string\",\n",
    "\"smallBusinessIndicatorBuilding\":          \"bool\",\n",
    "\"totalBuildingInsuranceCoverage\":        \"float64\",\n",
    "\"totalContentsInsuranceCoverage\":        \"float32\",\n",
    "\"totalInsurancePremiumOfThePolicy\":      \"float64\",\n",
    "\"id\":                                     \"string\"})"
   ]
  },
  {
   "cell_type": "markdown",
   "metadata": {},
   "source": [
    "### State Parquets\n",
    "\n",
    "We are going to produce parquets for three states to work with: Texas, Montana and Louisina. Texas and Louisiana experienced major flood events in recent years, whose impact on insurance we will explore in a separate notebook. Montana did not and will fulfill some functions analogous to those of a control group. The id and propertyState columns get dropped, since the former takes up a lot of space without providing any use for analysis and the latter is made unneccessary by splitting the data by state. "
   ]
  },
  {
   "cell_type": "code",
   "execution_count": 4,
   "metadata": {},
   "outputs": [],
   "source": [
    "df_tx = df[df.propertyState == \"TX\"].drop([\"propertyState\", \"id\"], axis=1)\n",
    "df_tx.to_parquet(\"../data/TXPolicies.parquet\")"
   ]
  },
  {
   "cell_type": "code",
   "execution_count": 5,
   "metadata": {},
   "outputs": [],
   "source": [
    "df_mo = df[df.propertyState == \"MO\"].drop([\"propertyState\", \"id\"], axis=1)\n",
    "df_mo.to_parquet(\"../data/MOPolicies.parquet\")"
   ]
  },
  {
   "cell_type": "code",
   "execution_count": 6,
   "metadata": {},
   "outputs": [],
   "source": [
    "df_la = df[df.propertyState == \"LA\"].drop([\"propertyState\", \"id\"], axis=1)\n",
    "df_la.to_parquet(\"../data/LAPolicies.parquet\")"
   ]
  },
  {
   "cell_type": "markdown",
   "metadata": {},
   "source": [
    "### Sampled Parquet\n",
    "\n",
    "A further option for exploring the data is to take a random sample of the datset instead of splitting it by categories. The following cell produces a sample parquet with 2% of the rows. "
   ]
  },
  {
   "cell_type": "code",
   "execution_count": 8,
   "metadata": {},
   "outputs": [],
   "source": [
    "df_sample = df.sample(frac=0.02, random_state=42).drop([\"id\"], axis=1)\n",
    "df_sample.to_parquet(\"../data/SamplePolicies.parquet\")"
   ]
  }
 ],
 "metadata": {
  "kernelspec": {
   "display_name": "Python 3.9.8 ('.venv': venv)",
   "language": "python",
   "name": "python3"
  },
  "language_info": {
   "codemirror_mode": {
    "name": "ipython",
    "version": 3
   },
   "file_extension": ".py",
   "mimetype": "text/x-python",
   "name": "python",
   "nbconvert_exporter": "python",
   "pygments_lexer": "ipython3",
   "version": "3.9.8"
  },
  "orig_nbformat": 4,
  "vscode": {
   "interpreter": {
    "hash": "a4444930a2b1dff6f311b68d007563b18bf180f6c8e4dc63743b56591a741c41"
   }
  }
 },
 "nbformat": 4,
 "nbformat_minor": 2
}
